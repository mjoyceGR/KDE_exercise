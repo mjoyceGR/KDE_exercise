{
 "cells": [
  {
   "cell_type": "markdown",
   "metadata": {},
   "source": [
    "# Step 1: Load the modules we will need"
   ]
  },
  {
   "cell_type": "code",
   "execution_count": null,
   "metadata": {},
   "outputs": [],
   "source": [
    "#!/usr/bin/env python3\n",
    "############################\n",
    "#\n",
    "# template by M Joyce\n",
    "# for use with Smith College students\n",
    "#\n",
    "############################\n",
    "\n",
    "## import the modules\n",
    "import numpy as np\n",
    "import matplotlib.pyplot as plt\n",
    "import scipy\n",
    "from scipy import stats\n",
    "from scipy.stats import norm\n",
    "\n",
    "print(\"modules imported\")"
   ]
  },
  {
   "cell_type": "markdown",
   "metadata": {},
   "source": [
    "# Step 2: Define a function to make figures look nice"
   ]
  },
  {
   "cell_type": "code",
   "execution_count": null,
   "metadata": {},
   "outputs": [],
   "source": [
    "def set_fig(ax):\n",
    "    ax.tick_params(axis = 'both',which='both', width=2)\n",
    "    ax.tick_params(axis = 'both',which='major', length=12)\n",
    "    ax.tick_params(axis = 'both',which='minor', length=8, color='black')\n",
    "    ax.tick_params(axis='both', which='major', labelsize=24)\n",
    "    ax.tick_params(axis='both', which='minor', labelsize=20)\n",
    "    return \n",
    "\n",
    "print(\"plot settings function defined\")"
   ]
  },
  {
   "cell_type": "markdown",
   "metadata": {},
   "source": [
    "# Step 3: Load the data"
   ]
  },
  {
   "cell_type": "code",
   "execution_count": null,
   "metadata": {},
   "outputs": [],
   "source": [
    "data_file = 'stellar_ages.dat'\n",
    "Joyce_ages= np.loadtxt(data_file, usecols=(0), unpack = True)\n",
    "\n",
    "print(\"ages loaded\")"
   ]
  },
  {
   "cell_type": "markdown",
   "metadata": {},
   "source": [
    "# Step 4: Create a Gaussian or \"normal\" distribution using norm.fit()\n",
    "### the Gaussian is a function defined by two parameters: $\\mu$ and $\\sigma$. I have called these \"Jmu\" and \"Jsigma\" because they are the $\\mu$ and $\\sigma$ for a Gaussian fit to the \"Joyce\" ages. \n",
    "### note that we have imported \"norm\" from scipy.stats in Step 1"
   ]
  },
  {
   "cell_type": "code",
   "execution_count": null,
   "metadata": {},
   "outputs": [],
   "source": [
    "(Jmu, Jsigma) = norm.fit(Joyce_ages)\n",
    "\n",
    "## you may print these quantities by uncommenting the line below\n",
    "#print(\"Jmu: \", Jmu, \"  Jsigma: \", Jsigma )"
   ]
  },
  {
   "cell_type": "markdown",
   "metadata": {},
   "source": [
    "# Step 5: create a histogram of the ages"
   ]
  },
  {
   "cell_type": "code",
   "execution_count": null,
   "metadata": {},
   "outputs": [],
   "source": [
    "histogram = np.histogram(Joyce_ages)"
   ]
  },
  {
   "cell_type": "markdown",
   "metadata": {},
   "source": [
    "## Now, grab the bins from the histogram we have created"
   ]
  },
  {
   "cell_type": "code",
   "execution_count": null,
   "metadata": {},
   "outputs": [],
   "source": [
    "bins = histogram[1]\n",
    "## you may print the bins by uncommenting the line below\n",
    "#print(\"bins: \", bins)"
   ]
  },
  {
   "cell_type": "markdown",
   "metadata": {},
   "source": [
    "# Step 6: Create a curve defined by $\\mu$, $\\sigma$\n",
    "### \"pdf\" in norm.pdf stands for \"probability density function,\" and it is normalized such that its area is 1 by default"
   ]
  },
  {
   "cell_type": "code",
   "execution_count": null,
   "metadata": {},
   "outputs": [],
   "source": [
    "normalized_gaussian_pdf = norm.pdf(bins, Jmu, Jsigma)"
   ]
  },
  {
   "cell_type": "markdown",
   "metadata": {},
   "source": [
    "## Now, rescale the curve so that it fits the size of our data. There are 91 age measurements, so len(Joyce_ages) = 91. We multiply our normalized Gaussian by this value"
   ]
  },
  {
   "cell_type": "code",
   "execution_count": null,
   "metadata": {},
   "outputs": [],
   "source": [
    "gaussian_pdf= normalized_gaussian_pdf*len(Joyce_ages)"
   ]
  },
  {
   "cell_type": "markdown",
   "metadata": {},
   "source": [
    "# Step 7: Plot our histogram and the Gaussian curve we have fit to it"
   ]
  },
  {
   "cell_type": "code",
   "execution_count": null,
   "metadata": {},
   "outputs": [],
   "source": [
    "## initiate the figure\n",
    "fig, ax = plt.subplots(figsize = (8,8))\n",
    "set_fig(ax)\n",
    "\n",
    "\n",
    "## this is the histogram\n",
    "plt.hist(Joyce_ages,  bins=\"auto\", color='navy', edgecolor='black', label='histogram of Joyce ages')\n",
    "\n",
    "## this is the Gaussian curve\n",
    "plt.plot(bins, gaussian_pdf,\\\n",
    "         '--', color='cornflowerblue', linewidth=5,\\\n",
    "         label='Gaussian fit to Joyce ages:\\n $\\mu=$'+ \"%.2f\"%Jmu + ' $\\sigma=$'+ \"%.2f\"%Jsigma )\n",
    "\n",
    "\n",
    "## these lines are plot bookkeeping\n",
    "plt.xlabel('Ages (Gyr)', fontsize=20)\n",
    "plt.ylabel('Count', fontsize=20)\n",
    "plt.legend(loc=2)\n",
    "plt.show()\n",
    "plt.close()"
   ]
  },
  {
   "cell_type": "markdown",
   "metadata": {},
   "source": [
    "## Success!\n",
    "### But, the histogram of the stellar age data does not look very much like a normal distribution.\n",
    "### Perhaps we can make a better model to fit the data"
   ]
  },
  {
   "cell_type": "markdown",
   "metadata": {},
   "source": [
    "# Step 8: Try a Kernel Density Estimate (KDE) instead\n",
    "## Create the kde model for the stellar ages"
   ]
  },
  {
   "cell_type": "code",
   "execution_count": null,
   "metadata": {},
   "outputs": [],
   "source": [
    "kde_model = stats.gaussian_kde(Joyce_ages)"
   ]
  },
  {
   "cell_type": "markdown",
   "metadata": {},
   "source": [
    "## to make the model smoother, we can increase the resolution of the x-axis\n",
    "### the line below subdivides the age range into 1000 equally spaced values. The age range is the minimum age measurement, min(Joyce_ages), to the maximum age measurement, max(Joyce_ages). These correspond to about 2 Gyr (billion years) and 17 Gyr, respectively"
   ]
  },
  {
   "cell_type": "code",
   "execution_count": null,
   "metadata": {},
   "outputs": [],
   "source": [
    "age_x_values = np.linspace(min(Joyce_ages), max(Joyce_ages), 1000)"
   ]
  },
  {
   "cell_type": "markdown",
   "metadata": {},
   "source": [
    "### the following line evaluates the kde_model function we made at the beginning of Step 8 over the smoother array of x values defined above. "
   ]
  },
  {
   "cell_type": "code",
   "execution_count": null,
   "metadata": {},
   "outputs": [],
   "source": [
    "kde = kde_model(age_x_values)"
   ]
  },
  {
   "cell_type": "markdown",
   "metadata": {},
   "source": [
    "## once again, the model is normalized to 1, so we must rescale it by the number of age measurements"
   ]
  },
  {
   "cell_type": "code",
   "execution_count": null,
   "metadata": {},
   "outputs": [],
   "source": [
    "## scale the kde by the number of stellar ages in our sample (91)\n",
    "scaled_kde = kde*len(Joyce_ages)"
   ]
  },
  {
   "cell_type": "markdown",
   "metadata": {},
   "source": [
    "# Step 9: Now, add our KDE model curve to the histogram plot from Step 7"
   ]
  },
  {
   "cell_type": "code",
   "execution_count": null,
   "metadata": {},
   "outputs": [],
   "source": [
    "fig, ax = plt.subplots(figsize = (8,8))\n",
    "set_fig(ax)\n",
    "\n",
    "## histogram from earlier\n",
    "plt.hist(Joyce_ages,  bins=\"auto\", color= 'navy', edgecolor='black', label='histogram of Joyce ages')\n",
    "\n",
    "## Gaussian fit from earlier\n",
    "plt.plot(bins, gaussian_pdf,\\\n",
    "         '--', color='cornflowerblue', linewidth=5,\\\n",
    "         label='Gaussian fit to Joyce ages:\\n $\\mu=$'+ \"%.2f\"%Jmu + ' $\\sigma=$'+ \"%.2f\"%Jsigma)\n",
    "\n",
    "## NEW: add the KDE to the plot\n",
    "plt.plot(age_x_values, scaled_kde,\\\n",
    "         linewidth=5, linestyle='-', color='lightblue',\\\n",
    "         label='KDE of Joyce age distribution')\n",
    "\n",
    "plt.xlabel('Ages (Gyr)', fontsize=20)\n",
    "plt.ylabel('Count', fontsize=20)\n",
    "plt.legend(loc=2)\n",
    "plt.show()\n",
    "plt.close()"
   ]
  },
  {
   "cell_type": "markdown",
   "metadata": {},
   "source": [
    "## That looks a lot better!"
   ]
  },
  {
   "cell_type": "markdown",
   "metadata": {},
   "source": [
    "# EXERCISE 1\n",
    "## Make a Gaussian for the other age measurements \n",
    "## stellar_ages.dat contains a second column. These are ages determined by another astronomer, named Bensby, and his team. We would like to see what their age distribution looks like. "
   ]
  },
  {
   "cell_type": "markdown",
   "metadata": {},
   "source": [
    "### Use the following lines of code to determine $\\mu$ and $\\sigma$ for the Gaussian fit to Bensby's data:"
   ]
  },
  {
   "cell_type": "code",
   "execution_count": null,
   "metadata": {},
   "outputs": [],
   "source": [
    "Bensby_ages= np.loadtxt(data_file, usecols=(1), unpack = True)\n",
    "(Bmu, Bsigma) = norm.fit(Bensby_ages)"
   ]
  },
  {
   "cell_type": "markdown",
   "metadata": {},
   "source": [
    "### Use the following lines of code to make a Gaussian fit scaled to Bensby's data:"
   ]
  },
  {
   "cell_type": "code",
   "execution_count": null,
   "metadata": {},
   "outputs": [],
   "source": [
    "B_histogram = np.histogram(Bensby_ages)\n",
    "B_bins = B_histogram[1]\n",
    "\n",
    "B_normalized_gaussian_pdf = norm.pdf(B_bins, Bmu, Bsigma)\n",
    "B_gaussian_pdf= B_normalized_gaussian_pdf*len(Bensby_ages)"
   ]
  },
  {
   "cell_type": "markdown",
   "metadata": {},
   "source": [
    "### Use the following lines of code to plot the histogram of Bensby data and the Gaussian curve (as we did in Step 7 for the Joyce data)"
   ]
  },
  {
   "cell_type": "code",
   "execution_count": null,
   "metadata": {},
   "outputs": [],
   "source": [
    "fig, ax = plt.subplots(figsize = (8,8))\n",
    "set_fig(ax)\n",
    "\n",
    "\n",
    "plt.hist(Bensby_ages,  bins=\"auto\", color='maroon', edgecolor='black', label='histogram of Bensby ages')\n",
    "\n",
    "plt.plot(B_bins, B_gaussian_pdf,\\\n",
    "         '--', color='orange', linewidth=5,\\\n",
    "          label='Gaussian fit to Bensby ages:\\n $\\mu=$'+ \"%.2f\"%Bmu + ' $\\sigma=$'+ \"%.2f\"%Bsigma)\n",
    "\n",
    "plt.xlabel('Ages (Gyr)', fontsize=20)\n",
    "plt.ylabel('Count', fontsize=20)\n",
    "plt.legend(loc=2)\n",
    "plt.show()\n",
    "plt.close()"
   ]
  },
  {
   "cell_type": "markdown",
   "metadata": {},
   "source": [
    "# EXERCISE 2: Now, make a KDE for Bensby's data"
   ]
  },
  {
   "cell_type": "markdown",
   "metadata": {},
   "source": [
    "### uncomment and complete the following lines of code to make a KDE model for Bensby's data"
   ]
  },
  {
   "cell_type": "code",
   "execution_count": null,
   "metadata": {},
   "outputs": [],
   "source": [
    "## make a new kde model for Bensby's data\n",
    "B_kde_model = stats.gaussian_kde(Bensby_ages)\n",
    "\n",
    "## resample the ages to make a smoother curve\n",
    "B_age_x_values = np.linspace(min(Bensby_ages), max(Bensby_ages), 1000)\n",
    "B_kde = B_kde_model(B_age_x_values)\n",
    "\n",
    "## scale the kde by the number of stellar ages in our sample (91)\n",
    "B_scaled_kde = B_kde*len(Bensby_ages)"
   ]
  },
  {
   "cell_type": "markdown",
   "metadata": {},
   "source": [
    "## Add the KDE curve to Bensby histogram"
   ]
  },
  {
   "cell_type": "code",
   "execution_count": null,
   "metadata": {},
   "outputs": [],
   "source": [
    "fig, ax = plt.subplots(figsize = (8,8))\n",
    "set_fig(ax)\n",
    "\n",
    "## histogram of Bensby ages\n",
    "plt.hist(Bensby_ages,  bins=\"auto\", color='maroon', edgecolor='black', label='histogram of Bensby ages')\n",
    "\n",
    "## Gaussian fit to Bensby data\n",
    "plt.plot(B_bins, B_gaussian_pdf,\\\n",
    "         '--', color='orange', linewidth=5,\\\n",
    "          label='Gaussian fit to Bensby ages:\\n $\\mu=$'+ \"%.2f\"%Bmu + ' $\\sigma=$'+ \"%.2f\"%Bsigma)\n",
    "\n",
    "## KDE fit to Bensby data\n",
    "plt.plot(B_age_x_values, B_scaled_kde,\\\n",
    "         linewidth=5, linestyle='-', color='pink',\\\n",
    "         label='KDE of Bensby age distribution')\n",
    "\n",
    "plt.xlabel('Ages (Gyr)', fontsize=20)\n",
    "plt.ylabel('Count', fontsize=20)\n",
    "plt.legend(loc=2)\n",
    "plt.show()\n",
    "plt.close()"
   ]
  },
  {
   "cell_type": "markdown",
   "metadata": {},
   "source": [
    "# PART 2: KDE Resampling and Generative Models"
   ]
  },
  {
   "cell_type": "code",
   "execution_count": null,
   "metadata": {
    "scrolled": true
   },
   "outputs": [],
   "source": [
    "## import the sklearn package\n",
    "import sklearn\n",
    "\n",
    "## import the KernelDensity model\n",
    "from sklearn.neighbors import KernelDensity"
   ]
  },
  {
   "cell_type": "markdown",
   "metadata": {},
   "source": [
    "## In this case, we will change the KDE _bandwidth_ parameter, usually called _h_. Start by defining a value for the bandwidth"
   ]
  },
  {
   "cell_type": "code",
   "execution_count": null,
   "metadata": {},
   "outputs": [],
   "source": [
    "h1 = 1"
   ]
  },
  {
   "cell_type": "markdown",
   "metadata": {},
   "source": [
    "## create a new KDE for Joyce_ages using the sklearn KernelDensity function. The bandwidth parameter is set to bandwidth_value assigned above"
   ]
  },
  {
   "cell_type": "code",
   "execution_count": null,
   "metadata": {},
   "outputs": [],
   "source": [
    "kde1 = KernelDensity(bandwidth=h1).fit(Joyce_ages.reshape(-1, 1))"
   ]
  },
  {
   "cell_type": "markdown",
   "metadata": {},
   "source": [
    "## We now have a function called \"kde1\" which represents Python's best guess for the pdf (probability density function) that describes Joyce_ages. \n",
    "## We now want to _sample_ this pdf to get a new _synthetic distribution_. We sample kde1 91 times to generate a synthetic distribution with the same number of ages as in the original data "
   ]
  },
  {
   "cell_type": "code",
   "execution_count": null,
   "metadata": {},
   "outputs": [],
   "source": [
    "kde_model_1 = kde1.sample(91)"
   ]
  },
  {
   "cell_type": "markdown",
   "metadata": {},
   "source": [
    "## Now, we plot our synthetic distribution, or _KDE Resampling_, on top of the Joyce age data "
   ]
  },
  {
   "cell_type": "code",
   "execution_count": null,
   "metadata": {},
   "outputs": [],
   "source": [
    "fig, ax = plt.subplots(figsize = (8,8))\n",
    "set_fig(ax)\n",
    "\n",
    "## histogram from earlier\n",
    "plt.hist(Joyce_ages,  bins=\"auto\", color= 'navy', edgecolor='black', label='histogram of Joyce ages') \n",
    "\n",
    "## NEW: add our new KDE resampled distribution with bandwidth h = 1\n",
    "ax.hist(kde_model_1,\\\n",
    "        bins=8, density=False,\\\n",
    "        color='lightblue', alpha=0.7,\\\n",
    "        edgecolor='black', linestyle ='--',\\\n",
    "        label='Synthetic distribution made\\n'+r'with sklearn KDE; Bandwith $h=1$')\n",
    "\n",
    "plt.xlabel('Ages (Gyr)', fontsize=20)\n",
    "plt.ylabel('Count', fontsize=20)\n",
    "plt.legend(loc=2)\n",
    "\n",
    "plt.show()\n",
    "plt.close()"
   ]
  },
  {
   "cell_type": "markdown",
   "metadata": {},
   "source": [
    "# EXERCISE 3\n",
    "\n",
    "## Repeat the above using two additional bandwidth values, _h_=0.1 and _h_ = 0.01.\n",
    "## Question to keep in mind: Visually, which of these bandwidths (_h_=1, _h_=0.1, _h_=0.01) provides the best reproduction of the original Joyce age histogram?"
   ]
  },
  {
   "cell_type": "markdown",
   "metadata": {},
   "source": [
    "### the following lines of code make KDE resamplings with other bandwidths, _h_"
   ]
  },
  {
   "cell_type": "code",
   "execution_count": null,
   "metadata": {},
   "outputs": [],
   "source": [
    "h2 = 0.1\n",
    "kde2 = KernelDensity(bandwidth=h2).fit(Joyce_ages.reshape(-1, 1))\n",
    "kde_model_2 = kde2.sample(91)\n",
    "\n",
    "\n",
    "h3 = 0.01\n",
    "kde3 = KernelDensity(bandwidth=h3).fit(Joyce_ages.reshape(-1, 1))\n",
    "kde_model_3 = kde3.sample(91)"
   ]
  },
  {
   "cell_type": "markdown",
   "metadata": {},
   "source": [
    "### the following code block makes a synthetic distribution on top of the _truth_ (i.e. observed) Joyce age data"
   ]
  },
  {
   "cell_type": "code",
   "execution_count": null,
   "metadata": {},
   "outputs": [],
   "source": [
    "fig, ax = plt.subplots(figsize = (8,8))\n",
    "set_fig(ax)\n",
    "\n",
    "#### Joyce truth data \n",
    "plt.hist(Joyce_ages,  bins=\"auto\", color= 'navy',edgecolor='black',  label='histogram of Joyce ages') \n",
    "\n",
    "\n",
    "#### KDE resampled distribution with bandwidth h = 0.1\n",
    "ax.hist(kde_model_2,\\\n",
    "        bins=8, density=False,\\\n",
    "        color='lightgreen', alpha=0.8,\\\n",
    "        edgecolor='black', linestyle ='--',\\\n",
    "        label='Synthetic distribution made\\n'+r'with sklearn KDE; Bandwith $h=0.1$')\n",
    "\n",
    "\n",
    "plt.xlabel('Ages (Gyr)', fontsize=20)\n",
    "plt.ylabel('Count', fontsize=20)\n",
    "plt.legend(loc=2)\n",
    "\n",
    "plt.show()\n",
    "plt.close()"
   ]
  },
  {
   "cell_type": "markdown",
   "metadata": {},
   "source": [
    "### same as above, using kde_model_3 rather than kde_model_2"
   ]
  },
  {
   "cell_type": "code",
   "execution_count": null,
   "metadata": {},
   "outputs": [],
   "source": [
    "fig, ax = plt.subplots(figsize = (8,8))\n",
    "set_fig(ax)\n",
    "\n",
    "## Joyce truth data \n",
    "plt.hist(Joyce_ages,  bins=\"auto\", color= 'navy', edgecolor='black', label='histogram of Joyce ages') \n",
    "\n",
    "\n",
    "## KDE resampled distribution with bandwidth h = 0.01\n",
    "ax.hist(kde_model_3,\\\n",
    "        bins=8, density=False,\\\n",
    "        color='grey', alpha=0.8,\\\n",
    "        edgecolor='black', linestyle ='--',\\\n",
    "        label='Synthetic distribution made\\n'+r'with sklearn KDE; Bandwith $h=0.01$')\n",
    "\n",
    "\n",
    "plt.xlabel('Ages (Gyr)', fontsize=20)\n",
    "plt.ylabel('Count', fontsize=20)\n",
    "plt.legend(loc=2)\n",
    "\n",
    "plt.show()\n",
    "plt.close()"
   ]
  },
  {
   "cell_type": "markdown",
   "metadata": {},
   "source": [
    "# ULTRA BONUS EXERCISE\n",
    "## Make synthetic age distributions using a generative KDE based on Bensby's ages. \n",
    "## Visually, decide an appropriate value for the bandwidth parameter in this case"
   ]
  },
  {
   "cell_type": "markdown",
   "metadata": {},
   "source": [
    "### uncomment and write code to make KDE models based on the Bensby data with _h_ = 1, 0.1, and 0.01"
   ]
  },
  {
   "cell_type": "code",
   "execution_count": null,
   "metadata": {},
   "outputs": [],
   "source": [
    "## Bensby-based KDE model with h = 1\n",
    "B_h1 = 1\n",
    "B_kde1 = KernelDensity(bandwidth=B_h1).fit(Bensby_ages.reshape(-1, 1))\n",
    "B_kde_model_1 = B_kde1.sample(91)\n",
    "\n",
    "## Bensby-based KDE model with h = 0.1\n",
    "B_h2 = 0.1\n",
    "B_kde2 = KernelDensity(bandwidth=B_h2).fit(Bensby_ages.reshape(-1, 1))\n",
    "B_kde_model_2 = B_kde2.sample(91)\n",
    "\n",
    "## Bensby-based KDE model with h = 0.01\n",
    "B_h3 = 0.01\n",
    "B_kde3 = KernelDensity(bandwidth=B_h3).fit(Bensby_ages.reshape(-1, 1))\n",
    "B_kde_model_3 = B_kde3.sample(91)"
   ]
  },
  {
   "cell_type": "markdown",
   "metadata": {},
   "source": [
    "### uncomment to compare a synthetic histogram generated from a Bensby-based KDE model with _h_=1 against the Bensby histogram"
   ]
  },
  {
   "cell_type": "code",
   "execution_count": null,
   "metadata": {},
   "outputs": [],
   "source": [
    "fig, ax = plt.subplots(figsize = (8,8))\n",
    "set_fig(ax)\n",
    "\n",
    "#### histogram from earlier\n",
    "plt.hist(Bensby_ages,  bins=\"auto\", color= 'maroon',edgecolor='black',  label='histogram of Bensby ages') \n",
    "\n",
    "#### KDE resampled distribution with bandwidth h = 1\n",
    "ax.hist(B_kde_model_1,\\\n",
    "        bins=8, density=False,\\\n",
    "        color='pink', alpha=0.7,\\\n",
    "        edgecolor='black', linestyle ='--',\\\n",
    "        label='Synthetic distribution made\\n'+r'with sklearn KDE; Bandwith $h=1$')\n",
    "\n",
    "plt.xlabel('Ages (Gyr)', fontsize=20)\n",
    "plt.ylabel('Count', fontsize=20)\n",
    "plt.legend(loc=2)\n",
    "plt.show()\n",
    "plt.close()"
   ]
  },
  {
   "cell_type": "markdown",
   "metadata": {},
   "source": [
    "### compare a synthetic histogram generated from a Bensby-based KDE model with _h_=0.1 against the Bensby histogram"
   ]
  },
  {
   "cell_type": "code",
   "execution_count": null,
   "metadata": {},
   "outputs": [],
   "source": [
    "fig, ax = plt.subplots(figsize = (8,8))\n",
    "set_fig(ax)\n",
    "\n",
    "#### histogram from earlier\n",
    "plt.hist(Bensby_ages,  bins=\"auto\", color= 'maroon',\\\n",
    "         edgecolor='black', label='histogram of Bensby ages') \n",
    "\n",
    "#### KDE resampled distribution with bandwidth h = 0.1\n",
    "ax.hist(B_kde_model_2,\\\n",
    "        bins=8, density=False,\\\n",
    "        color='magenta', alpha=0.4,\\\n",
    "        edgecolor='black', linestyle ='--',\\\n",
    "        label='Synthetic distribution made\\n'+r'with sklearn KDE; Bandwith $h=1$')\n",
    "\n",
    "plt.xlabel('Ages (Gyr)', fontsize=20)\n",
    "plt.ylabel('Count', fontsize=20)\n",
    "plt.legend(loc=2)\n",
    "plt.show()\n",
    "plt.close()"
   ]
  },
  {
   "cell_type": "markdown",
   "metadata": {},
   "source": [
    "### compare a synthetic histogram generated from a Bensby-based KDE model with _h_=0.01 against the Bensby histogram"
   ]
  },
  {
   "cell_type": "code",
   "execution_count": null,
   "metadata": {},
   "outputs": [],
   "source": [
    "fig, ax = plt.subplots(figsize = (8,8))\n",
    "set_fig(ax)\n",
    "\n",
    "#### histogram from earlier\n",
    "plt.hist(Bensby_ages,  bins=\"auto\", color= 'maroon',\\\n",
    "         edgecolor='black', label='histogram of Bensby ages') \n",
    "\n",
    "#### KDE resampled distribution with bandwidth h = 0.01\n",
    "plt.hist(B_kde_model_3,\\\n",
    "        bins=8, density=False,\\\n",
    "        color='orange', alpha=0.4,\n",
    "        edgecolor='black', linestyle='--', \n",
    "        label='Synthetic distribution made\\n'+r'with sklearn KDE; Bandwith $h=1$')\n",
    "\n",
    "plt.xlabel('Ages (Gyr)', fontsize=20)\n",
    "plt.ylabel('Count', fontsize=20)\n",
    "plt.legend(loc=2)\n",
    "plt.show()\n",
    "plt.close()"
   ]
  }
 ],
 "metadata": {
  "kernelspec": {
   "display_name": "Python 3",
   "language": "python",
   "name": "python3"
  },
  "language_info": {
   "codemirror_mode": {
    "name": "ipython",
    "version": 3
   },
   "file_extension": ".py",
   "mimetype": "text/x-python",
   "name": "python",
   "nbconvert_exporter": "python",
   "pygments_lexer": "ipython3",
   "version": "3.8.10"
  }
 },
 "nbformat": 4,
 "nbformat_minor": 4
}
